{
 "cells": [
  {
   "cell_type": "code",
   "execution_count": 1,
   "metadata": {},
   "outputs": [],
   "source": [
    "# Importing libraries\n",
    "\n",
    "from bs4 import BeautifulSoup\n",
    "from selenium import webdriver\n",
    "from selenium.webdriver.chrome.options import Options\n",
    "import requests\n",
    "import time\n",
    "import datetime\n",
    "import smtplib\n",
    "import csv\n",
    "import pandas as pd"
   ]
  },
  {
   "cell_type": "code",
   "execution_count": null,
   "metadata": {},
   "outputs": [],
   "source": [
    "# Scraping the site; Amazon uses Javascript, so regular use of BeautifulSoup won't work as it won't display Javascript.\n",
    "# Selenium and a webdriver will be used.\n",
    "\n",
    "chrome_options = Options()\n",
    "browser = webdriver.Chrome('E:\\Portfolio Projects\\Web Scraping\\chromedriver.exe')\n",
    "browser.get(\"https://www.amazon.ca/Practical-Statistics-Data-Scientists-Essential/dp/149207294X/ref=sr_1_5?keywords=statistics&qid=1637166906&sr=8-5\")\n",
    "time.sleep(3)\n",
    "soup1 = BeautifulSoup(browser.page_source, 'html.parser')\n",
    "soup2 = BeautifulSoup(soup1.prettify(), 'html.parser')\n",
    "browser.quit()\n",
    "print(soup2)"
   ]
  },
  {
   "cell_type": "code",
   "execution_count": 3,
   "metadata": {
    "scrolled": false
   },
   "outputs": [
    {
     "name": "stdout",
     "output_type": "stream",
     "text": [
      "\n",
      "           Practical Statistics for Data Scientists: 50+ Essential Concepts Using R and Python\n",
      "          \n",
      "\n",
      "                       $40.00\n",
      "                      \n",
      "2021-11-17\n"
     ]
    }
   ],
   "source": [
    "# Checking if it can find items in the scraping, let's see if it can find the title...\n",
    "\n",
    "title = soup2.find(id = 'productTitle').get_text()\n",
    "print(title)\n",
    "price = soup2.find(id = 'price').get_text()\n",
    "print(price)\n",
    "today = datetime.date.today()\n",
    "print(today)"
   ]
  },
  {
   "cell_type": "code",
   "execution_count": 4,
   "metadata": {},
   "outputs": [
    {
     "name": "stdout",
     "output_type": "stream",
     "text": [
      "Practical Statistics for Data Scientists: 50+ Essential Concepts Using R and Python\n",
      "40.00\n"
     ]
    }
   ],
   "source": [
    "# A little clean up\n",
    "\n",
    "price = price.strip()[1:]\n",
    "title = title.strip()\n",
    "print(title)\n",
    "print(price)"
   ]
  },
  {
   "cell_type": "code",
   "execution_count": 5,
   "metadata": {},
   "outputs": [],
   "source": [
    "# Creating a simple dataset from this.\n",
    "\n",
    "header = ['Title', 'Price', 'Date']\n",
    "data = [title, price, today]\n",
    "\n",
    "with open('DemoWebScraperDataset.csv', 'w', newline = '', encoding = 'UTF8') as m:\n",
    "    writer = csv.writer(m)\n",
    "    writer.writerow(header)\n",
    "    writer.writerow(data)"
   ]
  },
  {
   "cell_type": "code",
   "execution_count": 10,
   "metadata": {},
   "outputs": [],
   "source": [
    "# Now the dataframe is made, we can automate the insertion of new data as opposed to continuously recreating the csv.\n",
    "def check_price():\n",
    "    chrome_options = Options()\n",
    "    browser = webdriver.Chrome('E:\\Portfolio Projects\\Web Scraping\\chromedriver.exe')\n",
    "    browser.get(\"https://www.amazon.ca/Practical-Statistics-Data-Scientists-Essential/dp/149207294X/ref=sr_1_5?keywords=statistics&qid=1637166906&sr=8-5\")\n",
    "    time.sleep(3)\n",
    "    soup1 = BeautifulSoup(browser.page_source, 'html.parser')\n",
    "    soup2 = BeautifulSoup(soup1.prettify(), 'html.parser')\n",
    "    browser.quit()\n",
    "    title = soup2.find(id = 'productTitle').get_text()\n",
    "    price = soup2.find(id = 'price').get_text()\n",
    "    price = price.strip()[1:]\n",
    "    title = title.strip()\n",
    "    import datetime\n",
    "    today = datetime.date.today()\n",
    "    import csv\n",
    "    header = ['Title', 'Price', 'Date']\n",
    "    data = [title, price, today]\n",
    "    with open('DemoWebScraperDataset.csv', 'a+', newline = '', encoding = 'UTF8') as m:\n",
    "        writer = csv.writer(m)\n",
    "        writer.writerow(data)"
   ]
  },
  {
   "cell_type": "code",
   "execution_count": 9,
   "metadata": {},
   "outputs": [
    {
     "data": {
      "text/html": [
       "<div>\n",
       "<style scoped>\n",
       "    .dataframe tbody tr th:only-of-type {\n",
       "        vertical-align: middle;\n",
       "    }\n",
       "\n",
       "    .dataframe tbody tr th {\n",
       "        vertical-align: top;\n",
       "    }\n",
       "\n",
       "    .dataframe thead th {\n",
       "        text-align: right;\n",
       "    }\n",
       "</style>\n",
       "<table border=\"1\" class=\"dataframe\">\n",
       "  <thead>\n",
       "    <tr style=\"text-align: right;\">\n",
       "      <th></th>\n",
       "      <th>Title</th>\n",
       "      <th>Price</th>\n",
       "      <th>Date</th>\n",
       "    </tr>\n",
       "  </thead>\n",
       "  <tbody>\n",
       "    <tr>\n",
       "      <td>0</td>\n",
       "      <td>Practical Statistics for Data Scientists: 50+ ...</td>\n",
       "      <td>40.0</td>\n",
       "      <td>2021-11-17</td>\n",
       "    </tr>\n",
       "    <tr>\n",
       "      <td>1</td>\n",
       "      <td>Practical Statistics for Data Scientists: 50+ ...</td>\n",
       "      <td>40.0</td>\n",
       "      <td>2021-11-17</td>\n",
       "    </tr>\n",
       "  </tbody>\n",
       "</table>\n",
       "</div>"
      ],
      "text/plain": [
       "                                               Title  Price        Date\n",
       "0  Practical Statistics for Data Scientists: 50+ ...   40.0  2021-11-17\n",
       "1  Practical Statistics for Data Scientists: 50+ ...   40.0  2021-11-17"
      ]
     },
     "execution_count": 9,
     "metadata": {},
     "output_type": "execute_result"
    }
   ],
   "source": [
    "# I can even make it email me to tell me if the price dropped, create a function to send an email to me...\n",
    "\n",
    "def send_mail():\n",
    "    server = smtplib.SMTP_SSL('smtp.gmail.com', 465)\n",
    "    server.ehlo()\n",
    "    server.starttls()\n",
    "    server.ehlo(\n",
    "    # This of course, is just an example account.\n",
    "    server.login('example@gmail.com, 'xxxxxxxxxxxxxx')\n",
    "    subject = \"The item you wanted is on sale.\"\n",
    "    body = 'What are you waiting for? The item is on sale!'\n",
    "    msg = f'Subject: {subject}/n/n{body}'\n",
    "    server.sendmail(\n",
    "        'example@gmail.com', \n",
    "        msg\n",
    "    )"
   ]
  },
  {
   "cell_type": "code",
   "execution_count": null,
   "metadata": {},
   "outputs": [],
   "source": [
    "# Adding it all together...\n",
    "# We have a function that will check the price of this item, however it can be changed to any URL or item.\n",
    "# Then it will take the price and name of the item along with the date it was scraped, and append it into the dataframe.\n",
    "# Finally, the embedded function will email me should the price, or any variable of my choosing change or meet a requirement.\n",
    "\n",
    "def check_price():\n",
    "    # Setup for Selenium.\n",
    "    chrome_options = Options()\n",
    "    browser = webdriver.Chrome('E:\\Portfolio Projects\\Web Scraping\\chromedriver.exe')\n",
    "    browser.get(\"https://www.amazon.ca/Practical-Statistics-Data-Scientists-Essential/dp/149207294X/ref=sr_1_5?keywords=statistics&qid=1637166906&sr=8-5\")\n",
    "    time.sleep(3)\n",
    "    soup1 = BeautifulSoup(browser.page_source, 'html.parser')\n",
    "    soup2 = BeautifulSoup(soup1.prettify(), 'html.parser')\n",
    "    browser.quit()\n",
    "    # Cleaning and processing.\n",
    "    title = soup2.find(id = 'productTitle').get_text()\n",
    "    price = soup2.find(id = 'price').get_text()\n",
    "    price = price.strip()[1:]\n",
    "    title = title.strip()\n",
    "    import datetime\n",
    "    today = datetime.date.today()\n",
    "    import csv\n",
    "    header = ['Title', 'Price', 'Date']\n",
    "    data = [title, price, today]\n",
    "    with open('DemoWebScraperDataset.csv', 'a+', newline = '', encoding = 'UTF8') as m:\n",
    "        writer = csv.writer(m)\n",
    "        writer.writerow(data)\n",
    "    # Embedded function that will email me if the price drops below 40 or specific threshold.\n",
    "    if (price < 40):\n",
    "        send_mail()"
   ]
  },
  {
   "cell_type": "code",
   "execution_count": null,
   "metadata": {},
   "outputs": [],
   "source": [
    "# Now, we have a price checker automation!\n",
    "# I can run it constantly via a while(True) and have it check every 5 seconds, every minute, or hour, or day.\n",
    "# Here, it will check the price everyday. This is a function I use when annual sales are coming up to check on what I want!\n",
    "\n",
    "while(True):\n",
    "    check_price()\n",
    "    time.sleep(86400)"
   ]
  }
 ],
 "metadata": {
  "kernelspec": {
   "display_name": "Python 3",
   "language": "python",
   "name": "python3"
  },
  "language_info": {
   "codemirror_mode": {
    "name": "ipython",
    "version": 3
   },
   "file_extension": ".py",
   "mimetype": "text/x-python",
   "name": "python",
   "nbconvert_exporter": "python",
   "pygments_lexer": "ipython3",
   "version": "3.7.4"
  }
 },
 "nbformat": 4,
 "nbformat_minor": 2
}
